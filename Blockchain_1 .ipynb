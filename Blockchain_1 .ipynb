{
 "cells": [
  {
   "cell_type": "markdown",
   "metadata": {},
   "source": [
    "# Introduction to Blockchain and Bitcoin: Lecture 1\n",
    "\n",
    "- Class Introduction\n",
    "- Math -> Programming\n",
    "- A. Syllabus Review\n",
    "- B. Today: The Blockchain Experiment\n",
    "    - 1. Blocks and Pointers\n",
    "        - a. Hashing\n",
    "        - b. Satoshi Nakamoto's paper\n",
    "        - c. Hashing along a chain\n",
    "        - d. Block\n",
    "    - 2. Mining\n",
    "        - a. Playing a lottery: Proof-of-Work\n",
    "        - b. Toy Harvard Blockchain\n",
    "    - 3. Articles: The Bitcoin Market\n",
    "        - a. 51% Attack\n",
    "        - b. 2017 Bitcoin Crash    "
   ]
  },
  {
   "cell_type": "markdown",
   "metadata": {},
   "source": [
    "### Before we start: some Key Terms & Ideas\n",
    "\n",
    "- The Blockchain Experiment\n",
    "- Blocks\n",
    "- Pointers (Linked List with Hashing)\n",
    "- The Proof-of-Work Lottery: Large Electricity Consumption\n",
    "- The Bitcoin Market and the Marketable Satoshi"
   ]
  },
  {
   "cell_type": "code",
   "execution_count": 1,
   "metadata": {},
   "outputs": [
    {
     "data": {
      "text/plain": [
       "'3.7.3 (default, Mar 27 2019, 16:54:48) \\n[Clang 4.0.1 (tags/RELEASE_401/final)]'"
      ]
     },
     "execution_count": 1,
     "metadata": {},
     "output_type": "execute_result"
    }
   ],
   "source": [
    "# Here, we are using IPython/Jupyter Notebooks.\n",
    "# Check the version of Python in your system. Make sure it is Python 3.5 or greater.\n",
    "\n",
    "import sys\n",
    "sys.version"
   ]
  },
  {
   "cell_type": "markdown",
   "metadata": {},
   "source": [
    "# Class Introduction\n",
    "\n",
    "## A bit about me:\n",
    "\n",
    "- I am a Machine Learning Engineer Consultant and\n",
    "- wrote a book about Machine Learning with scikit-learn. \n",
    "- I started doing Data Science at Ayaakua about 6 years ago using Neural Networks to find the skeletons/frames of figures. \n",
    "- I preferred this procedure __over writing an algorithm myself__ which was quite difficult and prone to errors for strange cases: numerous edge cases.\n",
    "\n",
    "I work mostly on AI for Computer Vision or Finance. I like roughly three model types:\n",
    "- Neural Networks for Computer Vision/Natural Language Processing\n",
    "- Gradient Boosting Machines\n",
    "- Simple Linear/Polynomial Models\n",
    "\n",
    "## Ayaakua: start-up out of Harvard/Harvard Extension\n",
    "\n",
    "- Ayaakua was started out of Harvard.\n",
    "\n",
    "### Previous Jobs: Python/Linux jobs\n",
    "- Machine Learning Engineer\n",
    "- Data Product Engineer\n",
    "- Data Scientist\n",
    "- Quantitative Analyst\n",
    "\n",
    "### Where by Machine Learning Engineer I mean...\n",
    "\n",
    "- Data Scientist\n",
    "- Part Data Engineer\n",
    "- Big Data Person\n",
    "- Artificial Intelligence Person (AI is an ill-posed word)\n",
    "- ...or Algorithmic Python programmer\n",
    "\n",
    "## The TAs\n",
    "\n",
    "Jose and Nodari are the TAs for this course. They have an extensive background. I will let them share their background with you in their sections.\n",
    "\n",
    "## What about Blockchain?\n",
    "\n",
    "About me and Blockchain: My first project with Blockchain was building a Fingerprint Database Blockchain Prototype.\n",
    "\n",
    "...it was a Database which as input took fingerprints and a user was allowed to log into a system or not using crytographic hashing. The Database itself was private. Note that companies can use private/public Blockchains/Security systems.\n",
    "\n",
    "__A Visual Image of Blockchain: the Blockchain Database__\n",
    "\n",
    "__First definition of Blockchain: Ledger/Database:__\n",
    "- slow posting transactions onto the database\n",
    "- yet: the size of the database is large\n",
    "\n",
    "### fingerprint -> crypto key\n",
    "\n",
    "## Additionally...\n",
    "\n",
    "I graduated from MIT in Mathematics. Last year, I found out that Bill Gates was studying Mathematics at Harvard before dropping out: I was surprised."
   ]
  },
  {
   "cell_type": "markdown",
   "metadata": {},
   "source": [
    "# Math -> Programming\n",
    "\n",
    "### This could suggest that Mathematics is useful for Programming...\n",
    "\n",
    "- Formally, Programming is Mathematical: it obeys a finite system of rules/axioms.\n",
    "\n",
    "    - Practically, there is some fine-detail in programming that is far away from Theoretical Math: a bug from a program that you need fixed right away is far from Theoretical Math.\n",
    "\n",
    "    - Practically, what about AI?: Is there some math there?\n",
    "\n",
    "- Overall: Math and Physics operate from \"Basic Principles\". If you would like to use Math in programming you definitely can. I myself do. Also, this class is offered in the Harvard Dept. of Mathematics & Computation.\n",
    "\n",
    "### \"Basic Principles\" -> Outcome\n",
    "\n",
    "#### Examples:\n",
    "- Physics (light frequencies) -> Painting\n",
    "- Physics (audio frequencies) -> Music\n",
    "- Math -> CS (Binary math usually)\n",
    "- Theorist -> Making a Product/Application\n",
    "- Design an ML Algorithm -> Apply Random Forest within a product and deploy\n",
    "- Academia -> Industry\n",
    "\n",
    "## A Note on Blackboxes\n",
    "\n",
    "The course is based on Modules and Modular Thought.\n",
    "Sometimes you understand what is in the Black-box.\n",
    "Sometimes you do not understand what is in the Black-box.\n",
    "In programming teams: you usually understand the Black-box you work on: everyone else understands the inputs/outputs only. (Also, sometimes you forget exactly what is in a Black-box and you must prepare for that.)\n",
    "\n",
    "### inputs -> outputs\n",
    "\n",
    "There are a few Black-boxes in the course: like Ethereum implementation details...Bitcoin implementation details...Web 3.0...and others..."
   ]
  },
  {
   "cell_type": "code",
   "execution_count": 2,
   "metadata": {},
   "outputs": [],
   "source": [
    "# import this  # Python methodologies/philosophies poem"
   ]
  },
  {
   "cell_type": "markdown",
   "metadata": {},
   "source": [
    "# A. Syllabus Review\n",
    "\n",
    "Week 1: Introduction. Course Philosophy & Logistics:\n",
    "- Introduction to Bitcoin (Market Leader)\n",
    "- Introduction to Ethereum (2nd in Market: attempting POS)\n",
    "- Alternate Blockchains\n",
    "- The ideas of the Internet of Things, Data Science, and how they can help Blockchains\n",
    "- (There is the Blockchain Market, Blockchain Apps, and the Black-boxed software)\n",
    "\n",
    "Q: When are the Sections?\n",
    "- To be determined: based on everyone's schedule.\n",
    "\n",
    "Q: What are final projects like?\n",
    "- Algorithmic: changing the Blockchain Proof-of-Mechanism\n",
    "- Make a Decentralized App with Solidity (most people): UI are optional\n",
    "- Model cryptocurrency trading (depends on the student)\n",
    "\n",
    "## Book Repository:\n",
    "\n",
    "https://github.com/PacktPublishing/SolidityProgrammingEssentials\n",
    "\n",
    "## Python/Jupyter\n",
    "\n",
    "- When developing in Jupyter make sure to reflect and use best-practices in regards to software-engineering.\n",
    "    - PEP8 guidelines are a good example\n",
    "    - some best practices and methodologies are in the documentation:\n",
    "        - part of ML I learned was reading the documentation that alluded to (from my perspective):\n",
    "            - AutoML\n",
    "            - hyper-parameter optimization\n",
    "    - Python methodologies:\n",
    "        - code usually easy to read and relatively easy to write\n",
    "        - language is welcoming to beginners\n",
    "\n",
    "- Important point on Python/Jupyter:\n",
    "    - Python is great for prototyping code and understanding code. \n",
    "    - We will use that property to eventually simulate Blockchain ideas. \n",
    "    - Recall however that Jupyter is new: Legacy C++ systems, for example, are structured/made differently.\n",
    "\n",
    "- The Bitcoin Blockchain was originally an experiment which thankfully worked and led to decentralized transactions.\n",
    "    - Bitcoin is leading the Blockchain market\n",
    "    - Ethereum is next\n",
    "    \n",
    "## Why IPython/Jupyter?\n",
    "\n",
    "### Pros:\n",
    "\n",
    "- IPython/Jupyter Notebooks are mainstream in Data Science and Data Science presentations. \n",
    "\n",
    "- Personally, I wrote a programming book using Jupyter Notebooks.\n",
    "\n",
    "- Additionally, they are good for \n",
    "    - quickly testing code, \n",
    "    - making unit tests,\n",
    "    - demoing,\n",
    "    - and visualizing quickly. For example, one can make a quick test of code in a single cell. \n",
    "\n",
    "- A quick visualization in a Notebook reveals whether an algorithm will potentially work or fail. If it fails, one has to go back yet there is usually not much wasted time. \n",
    "\n",
    "- It is easy to make demo-videos in Jupyter (as opposed to writing a complete app for the demo stage.) \n",
    "\n",
    "- The last benefit I encountered in Jupyter is the easy learning of new Python libraries.\n",
    "\n",
    "Notebooks are starting to take hold at mayor companies, for example Netflix:\n",
    "\n",
    "https://medium.com/netflix-techblog/notebook-innovation-591ee3221233\n",
    "\n",
    "\n",
    "### Cons:\n",
    "- Watch out for: not being able to write code by hand: or becoming over-dependent on this style of writing.\n",
    "\n",
    "\n",
    "## Blockchain uses\n",
    "\n",
    "- Unicef is using blockchain as well:\n",
    "\n",
    "### \" Blockchain technologies are introducing new systems of trust and exchange on which users can send value directly from one party to another without the need for intermediaries. \"\n",
    "\n",
    "http://unicefstories.org/blockchain/\n",
    "\n",
    "- Blockchain can reduce the cost of handling donations by eliminating third-parties involved in transferring money from donors to those who administer aid to individuals needing help. The work at Unicef emphasizes how Blockchain ideas can reduce transaction costs and help banking/society in general.\n",
    "\n",
    "- Blockchain is not all about the Bitcoin market and its abrupt changes in price. (Although, note that Bitcoin is the public image of the Blockchain at times.)"
   ]
  },
  {
   "cell_type": "markdown",
   "metadata": {},
   "source": [
    "# A. Today: The Blockchain Experiment\n",
    "\n",
    "Today we will look at:\n",
    "    \n",
    "   - Hashing and hashing pointers\n",
    "   - General Blockchain structure\n",
    "   - Roughly how Proof-of-Work and Mining work\n",
    "    \n",
    "Next time we will look at:\n",
    "\n",
    "   - How the Consensus works in more detail\n",
    "   - More elaborate code"
   ]
  },
  {
   "cell_type": "markdown",
   "metadata": {},
   "source": [
    "# 1. Blocks and Pointers\n",
    "\n",
    "## a. Hashing\n",
    "\n",
    "A hash function is a mathematical function with several characteristics:\n",
    "    \n",
    "- 1) The input to the function can be a string of any length\n",
    "- 2) The output it produces is of fixed size\n",
    "- 3) It can be computed rapidly: the time to compute the hash is proportional to the size of the string of length n, O(n)\n",
    "    \n",
    "Python itself uses a hash map for the efficiency of sets of object and dictionaries.\n",
    "\n",
    "- Note that a mathematical function is a mapping x -> y such that for each input, x, there is a unique output y. For the hash mapping we will also require collision-resistance, as well which means that for every output y there corresponds only one input x.   \n",
    "\n",
    "- For a secure hash function we will require it has the three properties above and that it is also: \n",
    "    - 1) collision-resistance \n",
    "    - 2) has a hiding property and \n",
    "    - 3) it is puzzle-friendly \n",
    "\n",
    "There is a good reference at: \n",
    "\n",
    "http://bitcoinbook.cs.princeton.edu/\n",
    "\n",
    "Revisiting Math -> Programming"
   ]
  },
  {
   "cell_type": "code",
   "execution_count": 3,
   "metadata": {},
   "outputs": [
    {
     "data": {
      "image/png": "[encoded data removed]",
      "text/plain": [
       "<IPython.core.display.Image object>"
      ]
     },
     "execution_count": 3,
     "metadata": {},
     "output_type": "execute_result"
    }
   ],
   "source": [
    "from IPython.display import Image\n",
    "Image(filename='Pictures/mapping.png')\n",
    "\n",
    "# Hashing creates a bijection, one-to-one mapping between several inputs and outputs"
   ]
  },
  {
   "cell_type": "code",
   "execution_count": 4,
   "metadata": {},
   "outputs": [],
   "source": [
    "toy_dict = dict()\n",
    "toy_dict['x_1'] = 'y_1'\n",
    "toy_dict['x_2'] = 'y_2'\n",
    "toy_dict['x_3'] = 'y_3'"
   ]
  },
  {
   "cell_type": "markdown",
   "metadata": {},
   "source": [
    "How are we going to use crytographic hashing anyways? \n",
    "\n",
    "A Hash Pointer formally has two properties:\n",
    "   - It is a regular pointer: that points to a place where data is stored and\n",
    "   - a crytographic hash of the information"
   ]
  },
  {
   "cell_type": "markdown",
   "metadata": {},
   "source": [
    "## b. Satoshi Nakamoto's paper\n",
    "\n",
    "- The white-paper that started the field.\n",
    "- It was released at the same time as the software base.\n",
    "- Bitcoin has been the constant market leader: the Satoshi story was a great story/great marketing.\n",
    "\n",
    "Let us look briefly as __Satoshi Nakamoto's__ paper available at:\n",
    "\n",
    "https://bitcoin.org/bitcoin.pdf\n",
    "\n",
    "From Satoshi's original paper: view the structure of a __block in the blockchain__:\n",
    "- The picture below, is from Satoshi's paper and shows two blocks in a small blockchain. \n",
    "- A blockchain is a linked list where all the pointers are replaced with hash pointers.\n",
    "\n",
    "- Note that you can replace the pointers in a binary-tree with hash pointers and create a new data structure with novel security feature."
   ]
  },
  {
   "cell_type": "code",
   "execution_count": 5,
   "metadata": {},
   "outputs": [
    {
     "data": {
      "image/png": "[encoded data removed]",
      "text/plain": [
       "<IPython.core.display.Image object>"
      ]
     },
     "execution_count": 5,
     "metadata": {},
     "output_type": "execute_result"
    }
   ],
   "source": [
    "Image(filename='Pictures/blocks.png')"
   ]
  },
  {
   "cell_type": "markdown",
   "metadata": {},
   "source": [
    "This set of blocks constitutes a __tamper-evident log__. It is a log of all blocks and transactions where we can keep adding blocks and transactions, yet if someone tries to alter the log we are going to __detect__ the interference.\n",
    "\n",
    "Suppose an adversary to the blockchain alters a specific block in the blockchain. Then hashing the block produces a very different output for every subsequent block which we can detect.\n",
    "\n",
    "Suppose the adversary tries to fix/tamper with the block previous to the block he/she modified, and the one before that and so on. Eventually, he/she hits the roadblock of the genesis block which the attacker cannot alter.\n",
    "\n",
    "Intuitively, we can check that with a chain of hashes:"
   ]
  },
  {
   "cell_type": "markdown",
   "metadata": {},
   "source": [
    "## c. Hashing along a chain"
   ]
  },
  {
   "cell_type": "code",
   "execution_count": 6,
   "metadata": {},
   "outputs": [],
   "source": [
    "from hashlib import sha256\n",
    "produce_hash_str_func = lambda x: sha256(x.encode()).hexdigest()"
   ]
  },
  {
   "cell_type": "code",
   "execution_count": 7,
   "metadata": {},
   "outputs": [
    {
     "data": {
      "text/plain": [
       "'ea3569ac1a53bd5d8dc67a291c9f7e1f089e565c4056d549829e12e584799d49'"
      ]
     },
     "execution_count": 7,
     "metadata": {},
     "output_type": "execute_result"
    }
   ],
   "source": [
    "genesis_information = 'genesis_info'\n",
    "\n",
    "hash_1 = produce_hash_str_func(genesis_information)\n",
    "hash_1"
   ]
  },
  {
   "cell_type": "code",
   "execution_count": 8,
   "metadata": {},
   "outputs": [
    {
     "data": {
      "text/plain": [
       "'12'"
      ]
     },
     "execution_count": 8,
     "metadata": {},
     "output_type": "execute_result"
    }
   ],
   "source": [
    "'1' + '2'"
   ]
  },
  {
   "cell_type": "code",
   "execution_count": 9,
   "metadata": {},
   "outputs": [
    {
     "data": {
      "text/plain": [
       "'ca9db0ef816b9d3bb3efd199e33766ac4328699825bcfd9bb6efbad33a9324c3'"
      ]
     },
     "execution_count": 9,
     "metadata": {},
     "output_type": "execute_result"
    }
   ],
   "source": [
    "next_step_info = \"info_1\"  # could name it transaction_1: \n",
    "# concatanation of nonce + previous_hash + extra_things\n",
    "hash_2_orig = produce_hash_str_func(hash_1 + next_step_info)\n",
    "hash_2_orig"
   ]
  },
  {
   "cell_type": "code",
   "execution_count": 10,
   "metadata": {},
   "outputs": [
    {
     "data": {
      "text/plain": [
       "'ea3569ac1a53bd5d8dc67a291c9f7e1f089e565c4056d549829e12e584799d49info_1'"
      ]
     },
     "execution_count": 10,
     "metadata": {},
     "output_type": "execute_result"
    }
   ],
   "source": [
    "hash_1 + next_step_info"
   ]
  },
  {
   "cell_type": "markdown",
   "metadata": {},
   "source": [
    "Modifying the information in between, next_step_info, we know something changed."
   ]
  },
  {
   "cell_type": "code",
   "execution_count": 11,
   "metadata": {},
   "outputs": [
    {
     "data": {
      "text/plain": [
       "'7f28943d8091914efe007c582c2d688cb2f177d3c9da0f4dd89befdd8d578db3'"
      ]
     },
     "execution_count": 11,
     "metadata": {},
     "output_type": "execute_result"
    }
   ],
   "source": [
    "next_step_info = \"info_11\"\n",
    "hash_2 = produce_hash_str_func(hash_1 + next_step_info)\n",
    "hash_2"
   ]
  },
  {
   "cell_type": "code",
   "execution_count": 12,
   "metadata": {},
   "outputs": [
    {
     "data": {
      "text/plain": [
       "'62ebc1997d66465070e8efe67b64fac29c9c38b93b7c52085ed4ed5d8dded567'"
      ]
     },
     "execution_count": 12,
     "metadata": {},
     "output_type": "execute_result"
    }
   ],
   "source": [
    "next_step_info = \"info_111\"\n",
    "hash_3 = produce_hash_str_func(hash_1 + next_step_info)\n",
    "hash_3"
   ]
  },
  {
   "cell_type": "markdown",
   "metadata": {},
   "source": [
    "Without access to the genesis-block we cannot \"fake\" the information in the chain if we are the adversary. Regardless, attacks are possible. A 51% Attack occurred to Bitcoin Gold. Bitcoin Gold came from a Hard Fork of Bitcoin.\n",
    "\n",
    "https://en.wikipedia.org/wiki/Bitcoin_Gold"
   ]
  },
  {
   "cell_type": "markdown",
   "metadata": {},
   "source": [
    "Roughly, as long as the good nodes are a majority the blockchain is safe and the longest chain is the proper good one."
   ]
  },
  {
   "cell_type": "markdown",
   "metadata": {},
   "source": [
    "## d. Block\n",
    "\n",
    "Below is what a basic block looks like. \n",
    "\n",
    "It contains:\n",
    "    some identifying information\n",
    "    a hash for the previous block"
   ]
  },
  {
   "cell_type": "code",
   "execution_count": 13,
   "metadata": {},
   "outputs": [],
   "source": [
    "block = {\n",
    "    'index': 1,\n",
    "    'timestamp': 5,\n",
    "    'transactions_list': [\n",
    "        {\n",
    "            'sender':    \"62ebc1997d66465070e\",\n",
    "            'recipient': \"b7c52085ed4ed5d8dde\",\n",
    "            'amount': 5,\n",
    "        }\n",
    "    ],\n",
    "    'proof_nonce': 10200,\n",
    "    'previous_hash': \"7f28943d8091914efe007c582c2d688cb2f177d3c9da0f4dd89befdd8d578db3\"\n",
    "}"
   ]
  },
  {
   "cell_type": "markdown",
   "metadata": {},
   "source": [
    "Programatically; we need to create a class for a block which stores the behavior of the Block in the Blockchain."
   ]
  },
  {
   "cell_type": "code",
   "execution_count": 14,
   "metadata": {},
   "outputs": [],
   "source": [
    "from hashlib import sha256\n",
    "\n",
    "class Block:\n",
    "  def __init__(self, \n",
    "               index, \n",
    "               timestamp, \n",
    "               transactions_list,\n",
    "               proof_nonce, \n",
    "               previous_hash):\n",
    "    self.index = index\n",
    "    self.timestamp = timestamp\n",
    "    self.transactions_list = transactions_list\n",
    "    self.proof_nonce = proof_nonce\n",
    "    self.previous_hash = previous_hash\n",
    "    self.hash_info = self.hash_block_256()\n",
    "    \n",
    "  \n",
    "  def hash_block_256(self):\n",
    "    hash_str = (str(self.index) +\n",
    "                str(self.timestamp) + \n",
    "                str(self.transactions_list) + # very simplistic here: turned a list into a str with the string function\n",
    "                str(self.proof_nonce) + \n",
    "                str(self.previous_hash)) \n",
    "    return sha256(hash_str.encode()).hexdigest()"
   ]
  },
  {
   "cell_type": "markdown",
   "metadata": {},
   "source": [
    "## 2. Mining\n",
    "\n",
    "## a. Playing a lottery: Proof-of-Work\n",
    "\n",
    "### hash (nonce + string) -> (bunch of zeros) +  something \n",
    "\n",
    "### Mining: How Proof-of-Work (POW) works:\n",
    "\n",
    "The puzzle of Bitcoin is to find an input that, when added to the prior block hash and the list of transactions, produces a hash that starts with a certain number of zeros. We call this string input a nonce.\n",
    "\n",
    "For the purpose of this example let us find the nonce for the string \"Harvard Blockchain\" and one trailing zero.\n",
    "    \n",
    "We need to find the nonce such that so that hashing the combination (nonce + \"Harvard Blockchain\") results in a string starting with zeros, in this case a single zero: 0. It happens that, we can only do this through testing several cases.\n",
    "\n",
    "This is the process of mining. Overall, the process of finding the nonce is computationally difficult yet easy to verify by anyone on the network."
   ]
  },
  {
   "cell_type": "markdown",
   "metadata": {},
   "source": [
    "## b. Toy Harvard Blockchain\n",
    "\n",
    "Let us test a few cases, do some simple mining, and find the nonce. \n",
    "\n",
    "Place a \"1\" in front of the string \"Harvard Blockchain\" and check if \"1\" is the nonce."
   ]
  },
  {
   "cell_type": "code",
   "execution_count": 15,
   "metadata": {},
   "outputs": [
    {
     "data": {
      "text/plain": [
       "'1Harvard Blockchain'"
      ]
     },
     "execution_count": 15,
     "metadata": {},
     "output_type": "execute_result"
    }
   ],
   "source": [
    "'1' + 'Harvard Blockchain'  # string concat"
   ]
  },
  {
   "cell_type": "code",
   "execution_count": 16,
   "metadata": {},
   "outputs": [
    {
     "data": {
      "text/plain": [
       "'945c7ba13fc261db01081c46b95966ba354d9ef1510b17eb9e0dc2346a437d72'"
      ]
     },
     "execution_count": 16,
     "metadata": {},
     "output_type": "execute_result"
    }
   ],
   "source": [
    "produce_hash_str_func(\"1Harvard Blockchain\")"
   ]
  },
  {
   "cell_type": "code",
   "execution_count": 17,
   "metadata": {},
   "outputs": [
    {
     "data": {
      "text/plain": [
       "'945c7ba13fc261db01081c46b95966ba354d9ef1510b17eb9e0dc2346a437d72'"
      ]
     },
     "execution_count": 17,
     "metadata": {},
     "output_type": "execute_result"
    }
   ],
   "source": [
    "sha256(\"1Harvard Blockchain\".encode()).hexdigest()"
   ]
  },
  {
   "cell_type": "markdown",
   "metadata": {},
   "source": [
    "That did not work, so try a \"2\" in front of the string \"Harvard Blockchain\"."
   ]
  },
  {
   "cell_type": "code",
   "execution_count": 18,
   "metadata": {},
   "outputs": [
    {
     "data": {
      "text/plain": [
       "'b7c1422f4c513789727fb848ad753563906df87029f26e29fd1bde7f20920aae'"
      ]
     },
     "execution_count": 18,
     "metadata": {},
     "output_type": "execute_result"
    }
   ],
   "source": [
    "sha256(\"2Harvard Blockchain\".encode()).hexdigest()"
   ]
  },
  {
   "cell_type": "markdown",
   "metadata": {},
   "source": [
    "Try the string \"3\" and so on:\n",
    "    "
   ]
  },
  {
   "cell_type": "code",
   "execution_count": 19,
   "metadata": {},
   "outputs": [
    {
     "data": {
      "text/plain": [
       "'b53530e369171125cf4d009af7ebfd43e1943312eb03483e460875f8da0adabd'"
      ]
     },
     "execution_count": 19,
     "metadata": {},
     "output_type": "execute_result"
    }
   ],
   "source": [
    "sha256(\"3Harvard Blockchain\".encode()).hexdigest()"
   ]
  },
  {
   "cell_type": "code",
   "execution_count": 20,
   "metadata": {},
   "outputs": [
    {
     "data": {
      "text/plain": [
       "'2ffe6092bf7f32d5d1216b5dc7104c9a592998ccb27a60bde6f6bf4d8e092e88'"
      ]
     },
     "execution_count": 20,
     "metadata": {},
     "output_type": "execute_result"
    }
   ],
   "source": [
    "sha256(\"4Harvard Blockchain\".encode()).hexdigest()"
   ]
  },
  {
   "cell_type": "code",
   "execution_count": 21,
   "metadata": {},
   "outputs": [
    {
     "data": {
      "text/plain": [
       "'21fc70b44b086fe9b06d7a6942f710b5016796486af7eb64122f33dec97f8724'"
      ]
     },
     "execution_count": 21,
     "metadata": {},
     "output_type": "execute_result"
    }
   ],
   "source": [
    "sha256(\"5Harvard Blockchain\".encode()).hexdigest()"
   ]
  },
  {
   "cell_type": "code",
   "execution_count": 22,
   "metadata": {},
   "outputs": [
    {
     "data": {
      "text/plain": [
       "'018936c28886b86133853bc9bf05aa2c9fc4dc2fb203f338ea10a37f7ea87a86'"
      ]
     },
     "execution_count": 22,
     "metadata": {},
     "output_type": "execute_result"
    }
   ],
   "source": [
    "sha256(\"6Harvard Blockchain\".encode()).hexdigest() # '6' is the nonce - a practically random number we found by trial and error"
   ]
  },
  {
   "cell_type": "markdown",
   "metadata": {},
   "source": [
    "# Performing Computation and Verifying it was performed\n",
    "\n",
    "- Bitcoin: \n",
    "    - Depending on difficulty: took N tries for some N: scaling exponentially with the number of leading zeros\n",
    "    - Verification takes O(1) try.\n",
    "- Useful work: \n",
    "    - Sorting is O(nlogn). \n",
    "    - __Verification__ is O(n): 1, 2, 3, 3, 4, 5 can be verified by comparing every number with the one preceding it (except for the first one, 1)\n",
    "- Generally:\n",
    "    - How hard was it to come up with an answer?\n",
    "    - How easy is it to verify?\n",
    "\n",
    "\n",
    "Decentralized AWS:\n",
    "- \"I don’t know if you remember the SETI project that was trying to process segments of radiofrequencies to find alien radio transmissions while the computer was idle or using the screen saver would be more useful isn’t ?\"\n",
    "\n",
    "- Decentralized AWS cloud: commercially feasible SETI: this would be nice\n",
    "\n",
    "- Note that there is also __Proof-of-Stake__: these do not have the same inneficiencies"
   ]
  },
  {
   "cell_type": "markdown",
   "metadata": {},
   "source": [
    "The Mining \"wastes\" electricity"
   ]
  },
  {
   "cell_type": "markdown",
   "metadata": {},
   "source": [
    "## Success (!)"
   ]
  },
  {
   "cell_type": "markdown",
   "metadata": {},
   "source": [
    "Finally, we noted that adding \"6\" to \"Harvard Blockchain\" produced the one desired trailing zero. Of course we could have done this a bit faster programatically as follows:"
   ]
  },
  {
   "cell_type": "code",
   "execution_count": 23,
   "metadata": {},
   "outputs": [
    {
     "name": "stdout",
     "output_type": "stream",
     "text": [
      "The solution to the mining puzzle is y = 6\n"
     ]
    }
   ],
   "source": [
    "from hashlib import sha256\n",
    "\n",
    "# For a project on this, on POW, you can write a Python prototype\n",
    "\n",
    "\n",
    "# We do not know what y is at first.\n",
    "y = 1  \n",
    "\n",
    "while sha256((str(y) + \"Harvard Blockchain\").encode()).hexdigest()[0] != \"0\":    \n",
    "    y += 1 # you could possibly replace this operation: to make it useful\n",
    "\n",
    "\n",
    "print ('The solution to the mining puzzle is y = ' + str(y))"
   ]
  },
  {
   "cell_type": "markdown",
   "metadata": {},
   "source": [
    "It is like throwing darts: You have a pre-determined probability to get the right nonce: probability 1/n for some n."
   ]
  },
  {
   "cell_type": "code",
   "execution_count": 24,
   "metadata": {},
   "outputs": [
    {
     "name": "stdout",
     "output_type": "stream",
     "text": [
      "The solution to the mining puzzle is y = 6\n",
      "The solution to the mining puzzle is y = 6\n",
      "The solution to the mining puzzle is y = 7\n",
      "The solution to the mining puzzle is y = 30\n",
      "The solution to the mining puzzle is y = 46\n",
      "The solution to the mining puzzle is y = 55\n",
      "The solution to the mining puzzle is y = 69\n",
      "The solution to the mining puzzle is y = 74\n",
      "The solution to the mining puzzle is y = 76\n",
      "The solution to the mining puzzle is y = 77\n",
      "The solution to the mining puzzle is y = 111\n",
      "The solution to the mining puzzle is y = 155\n",
      "The solution to the mining puzzle is y = 191\n"
     ]
    }
   ],
   "source": [
    "from hashlib import sha256\n",
    "\n",
    "# We do not know what y is at first.\n",
    "y = 1  \n",
    "\n",
    "while sha256((str(y) + \"Harvard Blockchain\").encode()).hexdigest()[0] != \"0\":    \n",
    "    y += 1 # adding 1 could be useful y = ax + b is a linear operation that is useful\n",
    "\n",
    "print ('The solution to the mining puzzle is y = ' + str(y))\n",
    "\n",
    "for y in range(1,201):\n",
    "    if sha256((str(y) + \"Harvard Blockchain\").encode()).hexdigest()[0] == \"0\":\n",
    "        print ('The solution to the mining puzzle is y = ' + str(y))        "
   ]
  },
  {
   "cell_type": "markdown",
   "metadata": {},
   "source": [
    "# 3. Articles: The Bitcoin Market\n",
    "\n",
    "### Another Perspective\n",
    "\n",
    "http://www.righto.com/2014/02/bitcoin-mining-hard-way-algorithms.html"
   ]
  },
  {
   "cell_type": "markdown",
   "metadata": {},
   "source": [
    "### Do hash collisions occur ?\n",
    "\n",
    "### In practice with the bitcoin configuration it does not happen.\n",
    "\n",
    "https://crypto.stackexchange.com/questions/24732/probability-of-sha256-collisions-for-certain-amount-of-hashed-values"
   ]
  },
  {
   "cell_type": "markdown",
   "metadata": {},
   "source": [
    "### An article about SHA1 Collision:\n",
    "\n",
    "https://www.coindesk.com/who-broke-the-sha1-algorithm-and-what-does-it-mean-for-bitcoin"
   ]
  },
  {
   "cell_type": "markdown",
   "metadata": {},
   "source": [
    "## a. 51% Attack\n",
    "\n",
    "### The 51% Attack: In \"practice\" it does not happen to Bitcoin:\n",
    "\n",
    "https://medium.com/coinmonks/what-is-a-51-attack-or-double-spend-attack-aa108db63474"
   ]
  },
  {
   "cell_type": "markdown",
   "metadata": {},
   "source": [
    "### \"History is written by the victors.\" - Winston Churchill\n",
    "\n",
    "This phrase came to mind reviewing this lecture: thinking about the Bitcoin Experiment.\n",
    "\n",
    "In regards to crytocurrency innovation, I would guess that a lot of developers fork Bitcoin, or use Bitcoin without much thought and do not question how Bitcoin came to be: yet a complete narrative as to why it works does not exist.\n",
    "\n",
    "Certainly, many attempts have been made to hack Bitcoin and it has survived. A lot of conceptual issues in regards to Bitcoin get vague answers :\"It has survived. It exists. In practice bad thing X does not occur.\""
   ]
  },
  {
   "cell_type": "markdown",
   "metadata": {},
   "source": [
    "## b. 2017 Crash\n",
    "\n",
    "### Some more History: 2017 Crash: Bubble Burst:\n",
    "\n",
    "https://techcrunch.com/2017/12/22/bitcoin-crypto-crashed-hard/"
   ]
  },
  {
   "cell_type": "markdown",
   "metadata": {},
   "source": [
    "Miners race to solve the proof-of-work puzzle, a puzzle similar to the one above. Eventually, one miner solves the puzzle and is rewarded with coins.\n",
    "\n",
    "The network can then verify that the miner solved the puzzle.\n",
    "\n",
    "In Satoshi's words:\n",
    "\n",
    "Section 5: Network: The steps to run the network are as follows:\n",
    "- 1) New transactions are broadcast to all nodes.\n",
    "- 2) Each node collects new transactions into a block.  \n",
    "- 3) Each node works on finding a difficult proof-of-work for its block.\n",
    "- 4) When a node finds a proof-of-work, it broadcasts the block to all nodes.\n",
    "- 5) Nodes accept the block only if all transactions in it are valid and not already spent.\n",
    "- 6) Nodes express their acceptance of the block by working on creating the next block in the\n",
    "chain, using the hash of the accepted block as the previous hash."
   ]
  },
  {
   "cell_type": "markdown",
   "metadata": {},
   "source": [
    "# HW Comments\n",
    "\n",
    "- __Competition__: From competition experience: need to skip some problems.\n",
    "- __Industry__: From business stand-point:\n",
    "    - try developing the most useful features\n",
    "    - try developing features that are relatively easy to implement\n",
    "    - usually go for the intersection of speed and usefulness: business impact\n",
    "    - The class and final project is more like Industry\n",
    "        - Industry involves coding and separate from it Marketing/Market"
   ]
  },
  {
   "cell_type": "code",
   "execution_count": 25,
   "metadata": {},
   "outputs": [
    {
     "data": {
      "text/plain": [
       "[[1, 1, 1, 1],\n",
       " [1, 1, 1, 2],\n",
       " [1, 1, 2, 1],\n",
       " [1, 1, 2, 2],\n",
       " [1, 2, 1, 1],\n",
       " [1, 2, 1, 2],\n",
       " [1, 2, 2, 1],\n",
       " [1, 2, 2, 2],\n",
       " [2, 1, 1, 1],\n",
       " [2, 1, 1, 2],\n",
       " [2, 1, 2, 1],\n",
       " [2, 1, 2, 2],\n",
       " [2, 2, 1, 1],\n",
       " [2, 2, 1, 2],\n",
       " [2, 2, 2, 1],\n",
       " [2, 2, 2, 2]]"
      ]
     },
     "execution_count": 25,
     "metadata": {},
     "output_type": "execute_result"
    }
   ],
   "source": [
    "# Similar to the power-set problem\n",
    "# Sets of 1s and 2s of length n\n",
    "def sets_12(n):\n",
    "      \n",
    "    def helper(curr_set, n_in):\n",
    "        if n_in == 0:\n",
    "            output.append(curr_set)\n",
    "        else:\n",
    "            helper(curr_set + [1], n_in-1)\n",
    "            helper(curr_set + [2], n_in-1)\n",
    "    \n",
    "    # main-like function\n",
    "    output = []\n",
    "    helper([], n)\n",
    "    return output\n",
    "\n",
    "sets_12(n=4)  # 16 results    "
   ]
  },
  {
   "cell_type": "markdown",
   "metadata": {},
   "source": [
    "### Looking again at Key Terms\n",
    "\n",
    "- The Blockchain Experiment\n",
    "- Blocks\n",
    "- Pointers (Linked List with Hashing)\n",
    "- The Proof-of-Work Lottery: Large Electricity Consumption:\n",
    "    - Hard to Solve & Quick(er) to Verify: Sorting for example\n",
    "    - Class Projects\n",
    "    - Previous Classes: Projects were mostly apps + 1 Theoretical Project overall + 0 Trading projects\n",
    "    - Bitcoin: No Plan to change POW\n",
    "    - Ethereum: \n",
    "        - https://finance.yahoo.com/news/ethereum-2-0-proof-stake-202800279.html\n",
    "        - https://www.cointrust.com/market-news/ethereum-2-0-proof-of-stake-testnet-beacon-blockchain-is-now-live\n",
    "    - some chains use POS\n",
    "- The Bitcoin Market and the Marketable Satoshi\n",
    "\n",
    "- 51% Attack: Early on in a Blockchain: perhaps have extra security\n",
    "\n",
    "### Piazza Discussions"
   ]
  },
  {
   "cell_type": "markdown",
   "metadata": {},
   "source": [
    "# Blockchain Market\n",
    "\n",
    "In a sense, this is the market that Bitcoin started. It features security as a product.\n",
    "\n",
    "\n",
    "Some more characters:\n",
    "- Silvio Micali: https://en.wikipedia.org/wiki/Zero-knowledge_proof\n",
    "- Vitalik Buterin"
   ]
  },
  {
   "cell_type": "markdown",
   "metadata": {},
   "source": [
    "# Articles and Data\n",
    "\n",
    "\"\n",
    "When the computational power increases, the average block time decreases — and then the difficulty level increases by having a low target value. \n",
    "\"\n",
    "\n",
    "https://medium.facilelogin.com/the-mystery-behind-block-time-63351e35603a\n",
    "\n",
    "Analysis of Profitability:\n",
    "\n",
    "https://www.buybitcoinworldwide.com/mining/profitability/\n",
    "\n",
    "Bitcoin halving in 2020:\n",
    "\n",
    "https://cryptocurrencyfacts.com/bitcoin-halving-explained/\n",
    "https://bitcoinblockhalf.com/\n",
    "\n",
    "Bitcoin number of hashes per unit of time:\n",
    "https://bitinfocharts.com/comparison/bitcoin-hashrate.html"
   ]
  }
 ],
 "metadata": {
  "kernelspec": {
   "display_name": "Python 3",
   "language": "python",
   "name": "python3"
  },
  "language_info": {
   "codemirror_mode": {
    "name": "ipython",
    "version": 3
   },
   "file_extension": ".py",
   "mimetype": "text/x-python",
   "name": "python",
   "nbconvert_exporter": "python",
   "pygments_lexer": "ipython3",
   "version": "3.7.3"
  }
 },
 "nbformat": 4,
 "nbformat_minor": 2
}
