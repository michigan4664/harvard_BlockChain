{
 "cells": [
  {
   "cell_type": "code",
   "execution_count": null,
   "metadata": {},
   "outputs": [],
   "source": [
    "from solcx import set_solc_version, compile_files\n",
    "from web3 import Web3\n",
    "\n",
    "from eth_tester import EthereumTester"
   ]
  },
  {
   "cell_type": "code",
   "execution_count": null,
   "metadata": {},
   "outputs": [],
   "source": [
    "set_solc_version('v0.5.0')"
   ]
  },
  {
   "cell_type": "code",
   "execution_count": null,
   "metadata": {},
   "outputs": [],
   "source": [
    "# use eth-tester for blockchain\n",
    "# deploy contract using mock backend"
   ]
  },
  {
   "cell_type": "code",
   "execution_count": null,
   "metadata": {},
   "outputs": [],
   "source": [
    "# Mockbackend set\n",
    "TESTER = EthereumTester()"
   ]
  },
  {
   "cell_type": "code",
   "execution_count": null,
   "metadata": {},
   "outputs": [],
   "source": [
    "# construct path to contract file\n",
    "def get_contract_path(contract_name):\n",
    "    return \"./contracts/\"+contract_name+\".sol\""
   ]
  },
  {
   "cell_type": "code",
   "execution_count": null,
   "metadata": {},
   "outputs": [],
   "source": [
    "# compile contract and get the result of compilation\n",
    "def compile_contract(contract_name):\n",
    "    # Solidity Compiler\n",
    "    source_file_name = get_contract_path(contract_name)\n",
    "    compiled_sol = compile_files([source_file_name]) # Compiled source code\n",
    "    return compiled_sol[source_file_name + \":\" + contract_name]"
   ]
  },
  {
   "cell_type": "code",
   "execution_count": null,
   "metadata": {},
   "outputs": [],
   "source": [
    "# get a web3 object instance, paramaterized with the contract\n",
    "def get_w3(provider, account):\n",
    "    # web3.py instance\n",
    "    w3 = Web3(provider)\n",
    "    \n",
    "    # set account as default sender of transactions\n",
    "    w3.eth.defaultAccount = account\n",
    "    \n",
    "    # returns instance of web3 object .. interacts with the blockchain\n",
    "    return w3"
   ]
  },
  {
   "cell_type": "code",
   "execution_count": null,
   "metadata": {},
   "outputs": [],
   "source": [
    "# Deploy the contract to the blockchain\n",
    "# takes in the w3 instance which is initialized with a provider and default account\n",
    "# *c_args takes in parameters from any constructors in the contract\n",
    "def deploy_contract(w3, compiled_contract, *c_args):\n",
    "    # get the contract interface from compiled contract code; provides the contract functions, constructor if exists\n",
    "    contract_interface = w3.eth.contract(abi=compiled_contract['abi'], bytecode=compiled_contract['bin'])\n",
    "    \n",
    "    # contructor is called and contract is deployed; transaction hash created; used as identifier\n",
    "    tx_hash = contract_interface.constructor(*c_args).transact()\n",
    "    \n",
    "    # Wait for the transaction to be mined and placed into a block; provide tx_hash; get a receipt\n",
    "    tx_receipt = w3.eth.waitForTransactionReceipt(tx_hash)\n",
    "    \n",
    "    # Get the deployed contract instance from the blockchain with the newly-deployed contract's address\n",
    "    deployed_contract_interface = w3.eth.contract(\n",
    "        address=tx_receipt.contractAddress,\n",
    "        abi=compiled_contract['abi'],\n",
    "        bytecode=compiled_contract['bin']\n",
    "    )\n",
    "    \n",
    "    return tx_receipt, deployed_contract_interface"
   ]
  },
  {
   "cell_type": "code",
   "execution_count": null,
   "metadata": {},
   "outputs": [],
   "source": [
    "# look at accounts provided by eth-tester\n",
    "TESTER.get_accounts()"
   ]
  },
  {
   "cell_type": "code",
   "execution_count": null,
   "metadata": {},
   "outputs": [],
   "source": [
    "# set up accounts for each party\n",
    "sensor_account = TESTER.get_accounts()[0]\n",
    "supplier_account = TESTER.get_accounts()[1]\n",
    "carrier_account = TESTER.get_accounts()[2]\n",
    "fulfillment_center_account = TESTER.get_accounts()[3]\n",
    "pool_point_account = TESTER.get_accounts()[4]\n",
    "delivery_agent_account = TESTER.get_accounts()[5]"
   ]
  },
  {
   "cell_type": "code",
   "execution_count": null,
   "metadata": {},
   "outputs": [],
   "source": [
    "# compile the supply damage chain contract; gets the compiled code\n",
    "sc_compiled = compile_contract(\"SupplyDamageChain\")"
   ]
  },
  {
   "cell_type": "code",
   "execution_count": null,
   "metadata": {},
   "outputs": [],
   "source": [
    "# set up the provider which is the connection to the blockchain\n",
    "provider = Web3.EthereumTesterProvider(ethereum_tester=TESTER)"
   ]
  },
  {
   "cell_type": "code",
   "execution_count": null,
   "metadata": {},
   "outputs": [],
   "source": [
    "# get the web3 instance and the sensor account\n",
    "# returns the web3 object which connects with the blockchain\n",
    "sc_w3 = get_w3(provider, sensor_account)"
   ]
  },
  {
   "cell_type": "code",
   "execution_count": null,
   "metadata": {},
   "outputs": [],
   "source": [
    "# deploy SupplyDamageChain contract by passing in connection and the compiled code\n",
    "# returns the receipt for the contract deployment transaction and the deployed contract's interface\n",
    "sc_receipt, damage_contract = deploy_contract(sc_w3, sc_compiled)"
   ]
  },
  {
   "cell_type": "code",
   "execution_count": null,
   "metadata": {},
   "outputs": [],
   "source": [
    "# see the functions in the contract\n",
    "damage_contract.all_functions()"
   ]
  },
  {
   "cell_type": "code",
   "execution_count": null,
   "metadata": {},
   "outputs": [],
   "source": [
    "# helpfer function but no execution\n",
    "def exec_call(contract_interface, function_name, *f_args):\n",
    "    func_inst = contract_interface.get_function_by_name(function_name)\n",
    "\n",
    "    return_value = func_inst(*f_args).call()\n",
    "    return return_value"
   ]
  },
  {
   "cell_type": "code",
   "execution_count": null,
   "metadata": {},
   "outputs": [],
   "source": [
    "# helpfer function for executing a transaction and return the transaction receipt\n",
    "def exec_transact_receipt(w3, contract_interface, function_name, *f_args):\n",
    "    func_inst = contract_interface.get_function_by_name(function_name)\n",
    "    \n",
    "    # get the return value first, without executing transaction\n",
    "    return_value = exec_call(contract_interface, function_name, *f_args)\n",
    "    \n",
    "    # execute the transaction\n",
    "    tx_hash = func_inst(*f_args).transact()\n",
    "    # receipt does not contain values returned by function\n",
    "    tx_receipt = w3.eth.waitForTransactionReceipt(tx_hash)\n",
    "    \n",
    "    return return_value, tx_receipt"
   ]
  },
  {
   "cell_type": "code",
   "execution_count": null,
   "metadata": {},
   "outputs": [],
   "source": [
    "# execute transaction, but ignore the receipt\n",
    "def exec_transact(w3, contract_interface, function_name, *f_args):\n",
    "    rv, _ = exec_transact_receipt(w3, contract_interface, function_name, *f_args)\n",
    "    return rv"
   ]
  },
  {
   "cell_type": "code",
   "execution_count": null,
   "metadata": {},
   "outputs": [],
   "source": [
    "# When a customer places an order on the E-Commerce website,\n",
    "# the supplier logs the product onto the blockchain using register_SupplierPartNumber\n",
    "# The address of the carrier, potential fulfillment center, potential pool point, and potential delivery agent\n",
    "# and customer address are passed in\n",
    "# The id of the supplier part number is returned\n",
    "# the contract keeps track of the latest id using the latest_id variable\n",
    "# the registered supplier part number is given latest_id as the id\n",
    "exec_call(damage_contract, \"latest_id\")"
   ]
  },
  {
   "cell_type": "code",
   "execution_count": null,
   "metadata": {},
   "outputs": [],
   "source": [
    "# registering customer orders\n",
    "# register_SupplierPartNumber takes in an account number from assigned carrier, an account number from the\n",
    "# potential fulfillment center, pool point, delivery agent, and customer\n",
    "supplierPartNumber1_id, supplierPartNumber1_receipt = exec_transact_receipt(sc_w3, damage_contract, \"register_SupplierPartNumber\", carrier_account, fulfillment_center_account, pool_point_account, delivery_agent_account, customer_account)\n",
    "supplierPartNumber2_id = exec_transact(sc_w3, damage_contract, \"register_SupplierPartNumber\", carrier_account, fulfillment_center_account, pool_point_account, delivery_agent_account, customer_account)\n",
    "\n",
    "print(\"SupplierPartNumber id: \", supplierPartNumber1_id)\n",
    "print(\"SupplierPartNumber 2 id: \", supplierPartNumber2_id)"
   ]
  },
  {
   "cell_type": "code",
   "execution_count": null,
   "metadata": {},
   "outputs": [],
   "source": [
    "# see gas of transaction\n",
    "supplierPartNumber1_receipt"
   ]
  },
  {
   "cell_type": "code",
   "execution_count": null,
   "metadata": {},
   "outputs": [],
   "source": [
    "# carrier arrives at Supplier's warehouse to pick up the product\n",
    "# the loading dock oracles check the products for damage\n",
    "# compile and deploy the DamageOracle contract; pass in the sensor account as a constructor argument for the contract\n",
    "damage_oracle_compiled = compile_contract(\"DamageOracle\")\n",
    "\n",
    "# pass in the sensor account; deploy DamageOracle contract\n",
    "damage_oracle_receipt, damage_oracle_contract = deploy_contract(sc_w3, damage_oracle_compiled, sensor_account)"
   ]
  },
  {
   "cell_type": "code",
   "execution_count": null,
   "metadata": {},
   "outputs": [],
   "source": [
    "# oracle senses damage in a product, reports the damage as an event by calling DamageOracle.Constructor()\n",
    "# passing in the product id; we get the transaction receipt\n",
    "# sensor detects damage of product with id of 0 and reports the damage; emmits isDamaged event\n",
    "_, damage_update_receipt_1 = exec_transact_receipt(sc_w3, damage_oracle_contract, \"isDamaged\", supplierPartNumber1_id)\n"
   ]
  },
  {
   "cell_type": "code",
   "execution_count": null,
   "metadata": {},
   "outputs": [],
   "source": [
    "# service is set up to listen to reports of damage\n",
    "# pass in receipt of the damage event; extract out the args dictionary\n",
    "def get_damage_event(damage_update_receipt):\n",
    "     return damage_oracle_contract.events.isDamaged().processReceipt(damage_update_receipt)[0]['args']"
   ]
  },
  {
   "cell_type": "code",
   "execution_count": null,
   "metadata": {},
   "outputs": [],
   "source": [
    "# service logs this event along with a timestamp \n",
    "damage_event_1 = get_damage_event(damage_update_receipt_1)\n",
    "damage_event_1"
   ]
  },
  {
   "cell_type": "code",
   "execution_count": null,
   "metadata": {},
   "outputs": [],
   "source": [
    "#SupplyDamageChain.report_damage is used to report the damage to product id 0\n",
    "exec_transact(sc_w3, damage_contract, \"report_damage\", SupplierPartNumber1_id)"
   ]
  },
  {
   "cell_type": "code",
   "execution_count": null,
   "metadata": {},
   "outputs": [],
   "source": [
    "# the carrier takes receipt of the second item which is not damaged\n",
    "# the carrier calls take receipt passing in the id of the product\n",
    "# take receipt of the sku\n",
    "def take_receipt(w3, contract, receipt_account, SupplierPartNumber_id):\n",
    "    current_account = w3.eth.defaultAccount\n",
    "    w3.eth.defaultAccount = receipt_account\n",
    "    # take_receipt takes in the id of the product to take receipt of\n",
    "    rv = exec_transact(w3, contract, \"take_receipt\", SupplierPartNumber_id)\n",
    "    w3.eth.defaultAccount = current_account\n",
    "    return rv"
   ]
  },
  {
   "cell_type": "code",
   "execution_count": null,
   "metadata": {},
   "outputs": [],
   "source": [
    "# returns the string \"carrier\" which means the carrier has picked up the product\n",
    "take_receipt(sc_w3, damage_contract, carrier_account, SupplierPartNumber2_id)"
   ]
  },
  {
   "cell_type": "code",
   "execution_count": null,
   "metadata": {},
   "outputs": [],
   "source": [
    "# the carrier reaches the pool point in this case and the oracles in the pool point check for damaged products\n",
    "# oracle does not sense damage in any other products coming off the carrier's trucks\n",
    "# For the products the pool point does take receipt of, a transaction is logged\n",
    "# the pool points account is passed in as an argument\n",
    "# status of \"pool point\" is returned\n",
    "take_receipt(sc_w3, damage_contract, pool_point_account, supplierPartNumber2_id)"
   ]
  },
  {
   "cell_type": "code",
   "execution_count": null,
   "metadata": {},
   "outputs": [],
   "source": [
    "# Since product ID 1 was damaged coming out of the Supplier, the pool point cannot take receipt\n",
    "# An exception is thrown if the pool point attempts to log a transaction for that product\n",
    "try:\n",
    "    take_receipt(sc_w3, damage_contract, pool_point_account, supplierPartNumber1_id)\n",
    "except:\n",
    "    print(\"Could not take receipt of Product %d\" % supplierPartNumber1_id)"
   ]
  }
 ],
 "metadata": {
  "kernelspec": {
   "display_name": "Python 3",
   "language": "python",
   "name": "python3"
  },
  "language_info": {
   "codemirror_mode": {
    "name": "ipython",
    "version": 3
   },
   "file_extension": ".py",
   "mimetype": "text/x-python",
   "name": "python",
   "nbconvert_exporter": "python",
   "pygments_lexer": "ipython3",
   "version": "3.7.3"
  }
 },
 "nbformat": 4,
 "nbformat_minor": 2
}
