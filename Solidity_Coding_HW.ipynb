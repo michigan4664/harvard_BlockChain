{
 "cells": [
  {
   "cell_type": "markdown",
   "metadata": {},
   "source": [
    "CSCI E-118 Introduction to Blockchain and Bitcoin\n",
    "Solidity Coding Homework\n",
    "Julian Avila"
   ]
  },
  {
   "cell_type": "markdown",
   "metadata": {},
   "source": [
    "##  Problems Summary:\n",
    "\n",
    "1) Write this function as a contract in Solidity.\n",
    "\n",
    "2) Ammend the Solidity Voting contract where there are functions such that:\n",
    "    \n",
    " - the inputs are the number of Voters, an integer\n",
    " - once a number gets more than 50% of the votes, they are stored as the winner\n",
    " - a function that asks who the winner is; if there is no winner yet, mention that there is no winner\n",
    "\n",
    "De-couple functionality as much as possible. Do not write one function that will attempt every task above.\n",
    "\n",
    "3) Use a Mapping (dictionary-like) structure in Solidity to cache/memorize factorial values, like we did in Python with FactorialMemo.\n",
    "\n",
    "Additional context is included below:"
   ]
  },
  {
   "cell_type": "code",
   "execution_count": null,
   "metadata": {},
   "outputs": [],
   "source": [
    "# Initialize the necessary files:\n",
    "\n",
    "from solcx import set_solc_version,compile_source, compile_files, link_code\n",
    "\n",
    "import json\n",
    "import web3\n",
    "\n",
    "from web3 import Web3, HTTPProvider\n",
    "from web3.contract import ConciseContract\n",
    "\n",
    "\n",
    "set_solc_version('v0.4.25')\n",
    "\n",
    "\n",
    "def get_contract_interface(input_str, contract_source_code):\n",
    "    # Solidity Compiler\n",
    "\n",
    "    compiled_sol = compile_source(contract_source_code) # Compiled source code\n",
    "    contract_interface = compiled_sol['<stdin>:' + input_str]\n",
    "\n",
    "    # web3.py instance\n",
    "    w3 = Web3(Web3.EthereumTesterProvider())\n",
    "\n",
    "    # set pre-funded account as sender\n",
    "    w3.eth.defaultAccount = w3.eth.accounts[0]\n",
    "\n",
    "    # Instantiate and deploy contract\n",
    "    ContractDeploy = w3.eth.contract(abi=contract_interface['abi'], bytecode=contract_interface['bin'])\n",
    "\n",
    "    # Submit the transaction that deploys the contract\n",
    "    tx_hash = ContractDeploy.constructor().transact()\n",
    "\n",
    "    # Wait for the transaction to be mined, and get the transaction receipt\n",
    "    tx_receipt = w3.eth.waitForTransactionReceipt(tx_hash)\n",
    "\n",
    "    # Create the contract instance with the newly-deployed address\n",
    "    contract_inst = w3.eth.contract(\n",
    "        address=tx_receipt.contractAddress,\n",
    "        abi=contract_interface['abi'],\n",
    "    )\n",
    "    \n",
    "    return w3, contract_inst"
   ]
  },
  {
   "cell_type": "code",
   "execution_count": null,
   "metadata": {},
   "outputs": [],
   "source": [
    "# Below if AverageStream from Assignment 0:\n",
    "\n",
    "# This class keeps tracks of an average without saving a list of numbers.\n",
    "\n",
    "class AverageStream:\n",
    "    \n",
    "    def __init__(self):\n",
    "        self.sum = 0 # float type\n",
    "        self.number_numbers = 0 # integer type\n",
    "        \n",
    "        # self.sum = None\n",
    "        # self.number_numbers = None\n",
    "        \n",
    "    def add_element(self, ele):\n",
    "        self.sum += ele\n",
    "        self.number_numbers += 1\n",
    "        return self\n",
    "    \n",
    "    def get_average(self): # concerned with the inputs (self.sum, self.number_numbers)\n",
    "        return (self.sum/self.number_numbers)\n",
    "    \n",
    "    def add_get_average(self, ele):\n",
    "        return self.add_element(ele).get_average()"
   ]
  },
  {
   "cell_type": "markdown",
   "metadata": {},
   "source": [
    "1) Write this function as a contract in Solidity."
   ]
  },
  {
   "cell_type": "code",
   "execution_count": 26,
   "metadata": {},
   "outputs": [],
   "source": [
    "contract_source_code = '''\n",
    "pragma solidity ^0.4.25;\n",
    "\n",
    "contract Voting {\n",
    "\n",
    "  mapping (int => uint8) public votesReceived;\n",
    "\n",
    "  int[5] candidateList = [int(0),1,2,3,4];\n",
    "    \n",
    "\n",
    "  \n",
    "\n",
    "  function totalVotesFor(int candidate) view public returns (uint8) {\n",
    "\n",
    "    require(validCandidate(candidate));\n",
    "\n",
    "    return votesReceived[candidate];\n",
    "\n",
    "  }\n",
    "\n",
    "\n",
    "\n",
    "  function voteForCandidate(int candidate) public {\n",
    "\n",
    "    require(validCandidate(candidate));\n",
    "\n",
    "    votesReceived[candidate] += 1;\n",
    "\n",
    "  }\n",
    "\n",
    "\n",
    "\n",
    "  function validCandidate(int candidate) view public returns (bool) {\n",
    "\n",
    "    for(uint i = 0; i < candidateList.length; i++) {\n",
    "\n",
    "      if (candidateList[i] == candidate) {\n",
    "\n",
    "        return true;\n",
    "\n",
    "      }\n",
    "\n",
    "    }\n",
    "\n",
    "    return false;\n",
    "\n",
    "  }\n",
    "}\n",
    "'''\n",
    "\n",
    "input_str = 'Voting'\n",
    "w3, contract_inst = get_contract_interface(input_str, contract_source_code)"
   ]
  },
  {
   "cell_type": "code",
   "execution_count": 27,
   "metadata": {},
   "outputs": [],
   "source": [
    "# Voting 0 twice\n",
    "tx_hash = contract_inst.functions.voteForCandidate(0).transact()\n",
    "tx_receipt = w3.eth.waitForTransactionReceipt(tx_hash)\n",
    "\n",
    "tx_hash = contract_inst.functions.voteForCandidate(0).transact()\n",
    "tx_receipt = w3.eth.waitForTransactionReceipt(tx_hash)\n",
    "\n",
    "# Vote for 1\n",
    "tx_hash = contract_inst.functions.voteForCandidate(1).transact()\n",
    "tx_receipt = w3.eth.waitForTransactionReceipt(tx_hash)\n",
    "\n",
    "# Vote for 2\n",
    "tx_hash = contract_inst.functions.voteForCandidate(2).transact()\n",
    "tx_receipt = w3.eth.waitForTransactionReceipt(tx_hash)\n"
   ]
  },
  {
   "cell_type": "code",
   "execution_count": 28,
   "metadata": {},
   "outputs": [
    {
     "data": {
      "text/plain": [
       "2"
      ]
     },
     "execution_count": 28,
     "metadata": {},
     "output_type": "execute_result"
    }
   ],
   "source": [
    "contract_inst.functions.totalVotesFor(0).call()"
   ]
  },
  {
   "cell_type": "code",
   "execution_count": 24,
   "metadata": {},
   "outputs": [
    {
     "data": {
      "text/plain": [
       "1"
      ]
     },
     "execution_count": 24,
     "metadata": {},
     "output_type": "execute_result"
    }
   ],
   "source": [
    "contract_inst.functions.totalVotesFor(2).call()"
   ]
  },
  {
   "cell_type": "markdown",
   "metadata": {},
   "source": [
    "2) Ammend the Solidity Voting contract where there are functions such that:\n",
    "    \n",
    " - the inputs are the number of Voters, an integer\n",
    " - once a number gets more than 50% of the votes, they are stored as the winner\n",
    " - a function that asks who the winner is; if there is no winner yet, mention that there is no winner\n",
    "\n",
    "De-couple functionality as much as possible. Do not write one function that will attempt every task above."
   ]
  },
  {
   "cell_type": "code",
   "execution_count": 13,
   "metadata": {},
   "outputs": [
    {
     "data": {
      "text/plain": [
       "30414093201713378043612608166064768844377641568960512000000000000"
      ]
     },
     "execution_count": 13,
     "metadata": {},
     "output_type": "execute_result"
    }
   ],
   "source": [
    "# Recall from class the factorial function in Python.\n",
    "def factorial(n):\n",
    "    \n",
    "    if n <= 1:\n",
    "        return 1\n",
    "    else:\n",
    "        return n * factorial(n-1)\n",
    "\n",
    "# Class that memorizes factorial values:\n",
    "    \n",
    "class FactorialMemo:\n",
    "\n",
    "    def __init__(self):\n",
    "        self.memo_dict = {0:1, 1:1}\n",
    "        \n",
    "    def factorial(self, n):\n",
    "        if n in self.memo_dict:\n",
    "            return self.memo_dict[n]\n",
    "        self.memo_dict[n] = n * self.factorial(n- 1)\n",
    "        return self.memo_dict[n]\n",
    "\n",
    "factorial_memo = FactorialMemo()\n",
    "\n",
    "factorial_memo.factorial(50)"
   ]
  },
  {
   "cell_type": "code",
   "execution_count": 35,
   "metadata": {},
   "outputs": [],
   "source": [
    "# ...and its Solidity counterpart:\n",
    "contract_source_code = '''\n",
    "pragma solidity ^0.4.25;\n",
    "\n",
    "// mapping-based contract definition:\n",
    "\n",
    "contract FactorialWrap {\n",
    "    \n",
    "    \n",
    "    \n",
    "\n",
    "    function factorial(uint n) returns (uint) \n",
    "    {\n",
    "        \n",
    "        if (n <= 1) \n",
    "        {   return 1; } \n",
    "        \n",
    "        else {   return n * factorial(n - 1); }  \n",
    "    }\n",
    "\n",
    "\n",
    "}\n",
    "'''\n",
    "input_str = 'FactorialWrap'\n",
    "w3, contract_inst = get_contract_interface(input_str, contract_source_code)\n",
    "\n",
    "\n",
    "# Transactional form\n",
    "tx_hash = contract_inst.functions.factorial(5).transact()\n",
    "tx_receipt = w3.eth.waitForTransactionReceipt(tx_hash)\n",
    "# Look at results form/ Testing form\n",
    "assert(factorial(5)==contract_inst.functions.factorial(5).call())"
   ]
  },
  {
   "cell_type": "markdown",
   "metadata": {},
   "source": [
    "3) Use a Mapping (dictionary-like) structure in Solidity to cache/memorize factorial values, like we did in Python with FactorialMemo."
   ]
  }
 ],
 "metadata": {
  "kernelspec": {
   "display_name": "Python 3",
   "language": "python",
   "name": "python3"
  },
  "language_info": {
   "codemirror_mode": {
    "name": "ipython",
    "version": 3
   },
   "file_extension": ".py",
   "mimetype": "text/x-python",
   "name": "python",
   "nbconvert_exporter": "python",
   "pygments_lexer": "ipython3",
   "version": "3.7.3"
  }
 },
 "nbformat": 4,
 "nbformat_minor": 2
}
